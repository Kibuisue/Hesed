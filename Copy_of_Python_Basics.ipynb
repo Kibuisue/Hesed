{
  "nbformat": 4,
  "nbformat_minor": 0,
  "metadata": {
    "colab": {
      "provenance": [],
      "include_colab_link": true
    },
    "kernelspec": {
      "name": "python3",
      "display_name": "Python 3"
    },
    "language_info": {
      "name": "python"
    }
  },
  "cells": [
    {
      "cell_type": "markdown",
      "metadata": {
        "id": "view-in-github",
        "colab_type": "text"
      },
      "source": [
        "<a href=\"https://colab.research.google.com/github/Kibuisue/Hesed/blob/main/Copy_of_Python_Basics.ipynb\" target=\"_parent\"><img src=\"https://colab.research.google.com/assets/colab-badge.svg\" alt=\"Open In Colab\"/></a>"
      ]
    },
    {
      "cell_type": "markdown",
      "source": [
        "Download & install python from here: [Python download](https://www.python.org/)\n",
        "\n",
        "Download VsCode here [VsCode download](https://code.visualstudio.com/Download)\n",
        "\n",
        "Anaconda [Download Anaconda](https://www.anaconda.com/download/)\n",
        "\n",
        "Python == General purpose high level interpreted language.\n",
        "\n",
        "An interpreter reads the source code of the program as written by the programmer, parses the source code, and interprets the instructions on the fly.\n",
        "\n",
        "A compiler needs to be handed the entire program in a file,\n",
        "and then it runs a process to translate the high-level source code into machine language and then the compiler puts the resulting machine language into a file for later execution.\n",
        "\n",
        "Basic program constructs:\n",
        "1.  Input >> Get data from the “outside world”. This might be reading data from a file, or even a sensor like a microphone or GPS.\n",
        "\n",
        "2.  Output>> Display the results of the program on a screen or store them in a file or perhaps write them to a device.\n",
        "\n",
        "3.  Sequential execution>> Perform statements one after another in the order they are encountered in the script.\n",
        "4.  Conditional execution>> Check for certain conditions and then execute or skip a sequence of statements.\n",
        "5.  Repeated execution Perform some set of statements repeatedly, usually with some variation.\n",
        "6.  Reuse>> Write a set of instructions once and give them a name and then reuse those instructions as needed throughout your program.\n"
      ],
      "metadata": {
        "id": "EV7nYcgVFfsu"
      }
    },
    {
      "cell_type": "code",
      "source": [
        "num1=9\n",
        "num2=2024\n",
        "print(num1+num2)"
      ],
      "metadata": {
        "colab": {
          "base_uri": "https://localhost:8080/"
        },
        "id": "r2-U12XkdiNh",
        "outputId": "8446843e-0dd7-48d6-e40a-1ac5ff3bacce"
      },
      "execution_count": null,
      "outputs": [
        {
          "output_type": "stream",
          "name": "stdout",
          "text": [
            "2033\n"
          ]
        }
      ]
    },
    {
      "cell_type": "code",
      "source": [],
      "metadata": {
        "id": "36X_vfltdiob"
      },
      "execution_count": null,
      "outputs": []
    },
    {
      "cell_type": "code",
      "source": [
        "print(\"shekinah\")"
      ],
      "metadata": {
        "colab": {
          "base_uri": "https://localhost:8080/"
        },
        "id": "dbvRRKjEeq6i",
        "outputId": "45210b6c-7320-436d-f077-6850e302170c"
      },
      "execution_count": null,
      "outputs": [
        {
          "output_type": "stream",
          "name": "stdout",
          "text": [
            "shekinah\n"
          ]
        }
      ]
    },
    {
      "cell_type": "code",
      "source": [
        "x=\"machine\"+\"learning\"\n",
        "print (x)"
      ],
      "metadata": {
        "colab": {
          "base_uri": "https://localhost:8080/"
        },
        "id": "bmh-y2o3f7c8",
        "outputId": "6c5445ef-953a-4562-ded8-8f55d2125c03"
      },
      "execution_count": null,
      "outputs": [
        {
          "output_type": "stream",
          "name": "stdout",
          "text": [
            "machinelearning\n"
          ]
        }
      ]
    },
    {
      "cell_type": "code",
      "source": [
        "x=32*2\n",
        "print(x)"
      ],
      "metadata": {
        "colab": {
          "base_uri": "https://localhost:8080/"
        },
        "id": "90wq9e8-gOHL",
        "outputId": "31e3cb50-68a6-40a0-e220-cc3b7c2221e1"
      },
      "execution_count": null,
      "outputs": [
        {
          "output_type": "stream",
          "name": "stdout",
          "text": [
            "64\n"
          ]
        }
      ]
    },
    {
      "cell_type": "code",
      "source": [
        "name=input(\"\")\n",
        "print(name)"
      ],
      "metadata": {
        "colab": {
          "base_uri": "https://localhost:8080/"
        },
        "id": "3-0c2dsyhDCz",
        "outputId": "d3db29b8-b879-45c7-eea7-45d58acaa64a"
      },
      "execution_count": null,
      "outputs": [
        {
          "output_type": "stream",
          "name": "stdout",
          "text": [
            "shekinah\n",
            "shekinah\n"
          ]
        }
      ]
    },
    {
      "cell_type": "code",
      "source": [
        "type(name)"
      ],
      "metadata": {
        "colab": {
          "base_uri": "https://localhost:8080/"
        },
        "id": "2Sav1b1dh4eB",
        "outputId": "7fb3cc74-380f-4df0-b44d-9bfcd5e13b1d"
      },
      "execution_count": null,
      "outputs": [
        {
          "output_type": "execute_result",
          "data": {
            "text/plain": [
              "str"
            ]
          },
          "metadata": {},
          "execution_count": 7
        }
      ]
    },
    {
      "cell_type": "code",
      "source": [
        "x=15\n",
        "if x%2==0:\n",
        "  print(\"x is even\")\n",
        "else:\n",
        "  print(\"x is odd\")\n",
        "\n",
        "\n",
        "\n"
      ],
      "metadata": {
        "colab": {
          "base_uri": "https://localhost:8080/"
        },
        "id": "OZf73hRTii04",
        "outputId": "ba9134d3-10c5-4488-a881-de97cefde133"
      },
      "execution_count": null,
      "outputs": [
        {
          "output_type": "stream",
          "name": "stdout",
          "text": [
            "x is odd\n"
          ]
        }
      ]
    },
    {
      "cell_type": "code",
      "source": [
        "def mysum(a,b):\n",
        "  sum=a+b\n",
        "  print(sum)\n"
      ],
      "metadata": {
        "id": "yWRphokYkIGm"
      },
      "execution_count": null,
      "outputs": []
    },
    {
      "cell_type": "code",
      "source": [
        "mysum(12,13)"
      ],
      "metadata": {
        "colab": {
          "base_uri": "https://localhost:8080/"
        },
        "id": "daCaSQtolEVh",
        "outputId": "f1cccc77-c3d1-4bcd-a06d-a25261ad7f6a"
      },
      "execution_count": null,
      "outputs": [
        {
          "output_type": "stream",
          "name": "stdout",
          "text": [
            "25\n"
          ]
        }
      ]
    },
    {
      "cell_type": "code",
      "source": [
        "x=24\n",
        "while x>0:\n",
        "  print(x)\n",
        "  x=x-1\n",
        "  print(\"lift off\")"
      ],
      "metadata": {
        "colab": {
          "base_uri": "https://localhost:8080/"
        },
        "id": "4WaXfX7ImkTs",
        "outputId": "153a3b8b-9472-4a09-fe66-2f7466bda593"
      },
      "execution_count": null,
      "outputs": [
        {
          "output_type": "stream",
          "name": "stdout",
          "text": [
            "24\n",
            "lift off\n",
            "23\n",
            "lift off\n",
            "22\n",
            "lift off\n",
            "21\n",
            "lift off\n",
            "20\n",
            "lift off\n",
            "19\n",
            "lift off\n",
            "18\n",
            "lift off\n",
            "17\n",
            "lift off\n",
            "16\n",
            "lift off\n",
            "15\n",
            "lift off\n",
            "14\n",
            "lift off\n",
            "13\n",
            "lift off\n",
            "12\n",
            "lift off\n",
            "11\n",
            "lift off\n",
            "10\n",
            "lift off\n",
            "9\n",
            "lift off\n",
            "8\n",
            "lift off\n",
            "7\n",
            "lift off\n",
            "6\n",
            "lift off\n",
            "5\n",
            "lift off\n",
            "4\n",
            "lift off\n",
            "3\n",
            "lift off\n",
            "2\n",
            "lift off\n",
            "1\n",
            "lift off\n"
          ]
        }
      ]
    },
    {
      "cell_type": "code",
      "source": [
        "techstack=[\"webdeveloper\",\"game\",\"android\",\"ml\"]\n",
        "for stack in techstack:\n",
        "  print(\"my techstack is\",stack)"
      ],
      "metadata": {
        "colab": {
          "base_uri": "https://localhost:8080/"
        },
        "id": "1PHGFrGvnZHZ",
        "outputId": "c47e4b13-fe09-4f8c-9eab-dd9d4aea8bc6"
      },
      "execution_count": null,
      "outputs": [
        {
          "output_type": "stream",
          "name": "stdout",
          "text": [
            "my techstack is webdeveloper\n",
            "my techstack is game\n",
            "my techstack is android\n",
            "my techstack is ml\n"
          ]
        }
      ]
    },
    {
      "cell_type": "code",
      "source": [
        "num1 = 23\n",
        "num2 = 68\n",
        "print (num1 + num2)"
      ],
      "metadata": {
        "colab": {
          "base_uri": "https://localhost:8080/"
        },
        "id": "PCwIgBKicS02",
        "outputId": "fe1cb85b-4ac5-4979-b489-6e7143f64488"
      },
      "execution_count": null,
      "outputs": [
        {
          "output_type": "stream",
          "name": "stdout",
          "text": [
            "91\n"
          ]
        }
      ]
    },
    {
      "cell_type": "markdown",
      "source": [
        "### What we will cover:\n",
        "\n",
        "1.   Install Python and say \"Hello World\"\n",
        "2.   Describe basics of python programming language\n",
        "3.   Use variables to store, retrieve and calculate information\n",
        "4.   Utilize programming tools: functions and loops\n",
        "5.   Lists, Dictionaries and tuples\n",
        "\n",
        "\n",
        "This material is based on [Python for Everyone book ](https://www.py4e.com/)\n",
        "\n",
        "\n"
      ],
      "metadata": {
        "id": "nV29dvUosId4"
      }
    },
    {
      "cell_type": "markdown",
      "source": [
        "Python Syntax\n",
        "\n",
        "1.  Syntax errors:  A syntax error means that you have violated the “grammar” rules of Python.\n",
        "\n",
        "2.  Logic errors: A logic error is when your program has good syntax but there is a mistake in the order of the statements or perhaps a mistake in how the statements relate to one another.\n",
        "\n",
        "3.  Semantic errors: A semantic error is when your description of the steps to take is syntactically perfect and in the right order, but there is simply a mistake in the program. The program is perfectly correct but it does not do what you intended for it to do.\n",
        "e.g print(1,000,000)\n",
        "<Bugs/\n",
        "\n",
        "\n",
        "\n",
        "\n",
        "\n",
        "\n",
        "\n",
        "Python reserved words:\n",
        "\n",
        "![image.png](data:image/png;base64,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)"
      ],
      "metadata": {
        "id": "6MjTAHzPETTT"
      }
    },
    {
      "cell_type": "markdown",
      "source": [
        "## Python Variables, Expressions & Statements\n",
        "\n",
        "### Dataypes:\n",
        "*   integers\n",
        "*   floats\n",
        "*   strings\n",
        "\n",
        "To check type of value you are working with: type(<your value>)\n",
        "\n",
        "### Variables\n",
        "Variable == name that refers to a value\n",
        "An assignment statement creates new variables and give them values\n",
        "Use print statemnet to display value of a variable\n",
        "\n",
        "Coose variable names that are meaningful and document what the variable is used for.\n",
        "Do not use keywords as variable names\n",
        "Variable names are case sensitive\n",
        "\n",
        "###Statement\n",
        "Statement == unit of code that the python interpreter can excute\n",
        "Script == contains sequence of statements\n",
        "\n",
        "\n",
        "\n",
        "\n"
      ],
      "metadata": {
        "id": "gdTvGlGxMFgh"
      }
    },
    {
      "cell_type": "code",
      "source": [
        "print(68)\n",
        "x = 67\n",
        "print(x)"
      ],
      "metadata": {
        "id": "H4gBzL1wmi49"
      },
      "execution_count": null,
      "outputs": []
    },
    {
      "cell_type": "markdown",
      "source": [
        "### Operators and Operands\n",
        "\n",
        "The special symbols that represent computations\n",
        "Order of operation depends on the rule of precedence\n",
        "Python follows PEMDAS (BODMAS?) in the order of operations\n",
        "Multiplication and Division so as Addition and Subtrationc have the same precedence and are evaluated from left to right.\n",
        "\n",
        "The '+' in strigs performs concatenation, not the literal addition in maths"
      ],
      "metadata": {
        "id": "46DGiQlFnRfA"
      }
    },
    {
      "cell_type": "code",
      "source": [
        "quotient = 17 / 3\n",
        "print(quotient)\n",
        "remainder = 17 % 3\n",
        "print(remainder)"
      ],
      "metadata": {
        "colab": {
          "base_uri": "https://localhost:8080/"
        },
        "id": "4DKn56dmpDpx",
        "outputId": "3a209c43-337c-4f06-836c-8fdb0d021c8e"
      },
      "execution_count": null,
      "outputs": [
        {
          "output_type": "stream",
          "name": "stdout",
          "text": [
            "5.666666666666667\n",
            "2\n"
          ]
        }
      ]
    },
    {
      "cell_type": "code",
      "source": [
        "x = 'machine' + 'learning'\n",
        "print(x)\n",
        "\n",
        "a = '100'\n",
        "b = 'melons'\n",
        "print(a + b)\n",
        "\n",
        "c = 12\n",
        "d = 24\n",
        "print (c + d)\n",
        "\n",
        "e = '12'\n",
        "d = '24'\n",
        "print(e +d)"
      ],
      "metadata": {
        "colab": {
          "base_uri": "https://localhost:8080/"
        },
        "id": "nYi1EdlNqH0g",
        "outputId": "82ce4bce-83e3-4279-ac44-24076529d0bb"
      },
      "execution_count": null,
      "outputs": [
        {
          "output_type": "stream",
          "name": "stdout",
          "text": [
            "machine \n",
            "learning\n",
            "100melons\n",
            "36\n",
            "1224\n"
          ]
        }
      ]
    },
    {
      "cell_type": "markdown",
      "source": [
        "### User input\n",
        "takes the value for a variable from the user via keyboard.\n",
        "The built-in function input() does the job\n",
        "\n"
      ],
      "metadata": {
        "id": "PMG2iDm-su8p"
      }
    },
    {
      "cell_type": "code",
      "source": [
        "name = input('What is your name?\\n')\n",
        "print(name)"
      ],
      "metadata": {
        "colab": {
          "base_uri": "https://localhost:8080/"
        },
        "id": "GXij-npwtX8U",
        "outputId": "11672fe1-8946-46ad-f49d-fc916891208b"
      },
      "execution_count": null,
      "outputs": [
        {
          "output_type": "stream",
          "name": "stdout",
          "text": [
            "What is your name?\n",
            "ml dev\n",
            "ml dev\n"
          ]
        }
      ]
    },
    {
      "cell_type": "code",
      "source": [
        "#Quiz: Write a program to prompt the user for hours and rate per hour to\n",
        "#compute gross pay. Hours: 35 Rate: 2.75 Pay: 96.25\n"
      ],
      "metadata": {
        "id": "dVh7SsyButzv"
      },
      "execution_count": null,
      "outputs": []
    },
    {
      "cell_type": "code",
      "source": [
        "#Quiz: Write a program which prompts the user for a Celsius temperature,\n",
        "#convert the temperature to Fahrenheit, and print out the converted temperature.\n"
      ],
      "metadata": {
        "id": "oSTvMgyTvJnm"
      },
      "execution_count": null,
      "outputs": []
    },
    {
      "cell_type": "markdown",
      "source": [
        "## Conditional Execution\n",
        "### Booleans\n",
        "A boolean expression is an expression that is either true or false.\n",
        "### Logical operators\n",
        "They are three: and, or and not. Thye mean their literal english meanings\n"
      ],
      "metadata": {
        "id": "eePbbarmvf0W"
      }
    },
    {
      "cell_type": "code",
      "source": [
        "#Conditional execution\n",
        "x = 9\n",
        "if x > 5:\n",
        "  print('x is greater than 5')\n",
        "if type(x) == int:\n",
        "  print('x is an integer')\n",
        "\n",
        "\n",
        "#Alternative execution\n",
        "x = 4\n",
        "if x % 2 == 0:\n",
        "  print('x is even')\n",
        "else:\n",
        "  print('x is odd')\n",
        "\n",
        "#Chained conditionals\n",
        "x = 10\n",
        "y = 9\n",
        "if x < y:\n",
        "  print('x is less than y')\n",
        "elif x > y:\n",
        "  print('x is greater than y')\n",
        "else:\n",
        "  print('x and y are equal')\n",
        "\n",
        "#Nested conditionals\n",
        "x = 10\n",
        "y = 9\n",
        "if x == y:\n",
        "  print('x and y are equal')\n",
        "else:\n",
        "  if x < y:\n",
        "    print('x is less than y')\n",
        "  else:\n",
        "    print('x is greater than y')"
      ],
      "metadata": {
        "colab": {
          "base_uri": "https://localhost:8080/"
        },
        "id": "zfwYxWJ0xKy7",
        "outputId": "805e183f-7950-41ff-edf7-a3880260ebad"
      },
      "execution_count": null,
      "outputs": [
        {
          "output_type": "stream",
          "name": "stdout",
          "text": [
            "x is greater than 5\n",
            "x is an integer\n",
            "x is even\n",
            "x is greater than y\n"
          ]
        }
      ]
    },
    {
      "cell_type": "code",
      "source": [
        "#Quiz:Rewrite your pay computation to give the employee 1.5 times the hourly rate for hours worked above 40 hours.\n"
      ],
      "metadata": {
        "id": "5M1TR7N2zjr4"
      },
      "execution_count": null,
      "outputs": []
    },
    {
      "cell_type": "code",
      "source": [
        "Quiz Write a program to prompt for a score between 0.0 and 1.0. If the score is out of range, print an error message. If the score is between 0.0 and 1.0,\n",
        "print a grade using the following table:\n",
        "Score Grade\n",
        ">= 0.9 A\n",
        ">= 0.8 B\n",
        ">= 0.7 C\n",
        ">= 0.6 D\n",
        "< 0.6 F"
      ],
      "metadata": {
        "id": "YjPrV2pu1AGu"
      },
      "execution_count": null,
      "outputs": []
    },
    {
      "cell_type": "markdown",
      "source": [
        "## Functions\n",
        "A function is a named sequence of statements that performs a computation. When you define a function, you specify the name and\n",
        "the sequence of statements. Later, you can “call” the function by name\n",
        "\n",
        "\n",
        "Type conversion fnctions. From floats to integers\n",
        "\n",
        "\n",
        "in-built functions and user defined functions\n",
        "\n",
        "#### Why functions\n",
        "*   Easy to read, understand and debug programs\n",
        "*   make programs smaller by eliminating repetitiion\n",
        "*   divide long programs\n",
        "*   code reuse\n"
      ],
      "metadata": {
        "id": "9J8iMA5B1OaU"
      }
    },
    {
      "cell_type": "code",
      "source": [
        "import math\n",
        "print(math.sqrt(2))\n",
        "print(math.pi)"
      ],
      "metadata": {
        "colab": {
          "base_uri": "https://localhost:8080/"
        },
        "id": "IP9w2INl5ZvX",
        "outputId": "d71caace-8ddf-4edc-f815-95c9535ef513"
      },
      "execution_count": null,
      "outputs": [
        {
          "output_type": "stream",
          "name": "stdout",
          "text": [
            "1.4142135623730951\n",
            "3.141592653589793\n"
          ]
        }
      ]
    },
    {
      "cell_type": "code",
      "source": [
        "math.cos(math.pi/4)"
      ],
      "metadata": {
        "colab": {
          "base_uri": "https://localhost:8080/"
        },
        "id": "Rtu7GHF09tTt",
        "outputId": "4fcc834a-7fad-46ef-d392-18ea9ce0a8c4"
      },
      "execution_count": null,
      "outputs": [
        {
          "output_type": "execute_result",
          "data": {
            "text/plain": [
              "0.7071067811865476"
            ]
          },
          "metadata": {},
          "execution_count": 31
        }
      ]
    },
    {
      "cell_type": "code",
      "source": [
        "import random\n",
        "for i in range(10):\n",
        "  x = random.random()\n",
        "  print(x)"
      ],
      "metadata": {
        "colab": {
          "base_uri": "https://localhost:8080/"
        },
        "id": "9SRlbXkw4nEU",
        "outputId": "7ce9f051-99d9-4049-ad61-67f4de15d6c7"
      },
      "execution_count": null,
      "outputs": [
        {
          "output_type": "stream",
          "name": "stdout",
          "text": [
            "0.4570110258888782\n",
            "0.7173946283644256\n",
            "0.4297632316442377\n",
            "0.5843102606856826\n",
            "0.283197572494437\n",
            "0.3694476105069663\n",
            "0.9963338451754915\n",
            "0.3074029925965226\n",
            "0.13785844619376209\n",
            "0.19928616432486512\n"
          ]
        }
      ]
    },
    {
      "cell_type": "code",
      "source": [
        "def acceleration(v0, v1, t):\n",
        "  a = (v1 - v0) / t\n",
        "  return a\n",
        "\n",
        "acceleration(0, 100, 2)"
      ],
      "metadata": {
        "colab": {
          "base_uri": "https://localhost:8080/"
        },
        "id": "tXJg8C1y7Dic",
        "outputId": "67d1de3e-ff4f-4fc8-921e-98272f6f1b77"
      },
      "execution_count": null,
      "outputs": [
        {
          "output_type": "execute_result",
          "data": {
            "text/plain": [
              "50.0"
            ]
          },
          "metadata": {},
          "execution_count": 28
        }
      ]
    },
    {
      "cell_type": "code",
      "source": [
        "#Quiz: Rewrite your pay computation with time-and-a-half for overtime and\n",
        "#create a function called computepay which takes two parameters (hours and rate)."
      ],
      "metadata": {
        "id": "IxZktpb_Ftof"
      },
      "execution_count": null,
      "outputs": []
    },
    {
      "cell_type": "markdown",
      "source": [
        "## Iteration\n",
        "\n",
        "statement that updates a variable, where the new value of the variable depends on the old.\n",
        "\n",
        "Iteration variable\n",
        "finite and infinite iterations\n",
        "\n",
        "### The while loop\n",
        "flow of execution for a while statement:\n",
        "1. Evaluate the condition, yielding True or False.\n",
        "2. If the condition is false, exit the while statement and continue execution at the next statement.\n",
        "3. If the condition is true, execute the body and then go back to step 1.\n"
      ],
      "metadata": {
        "id": "J0wzNDK_1dAh"
      }
    },
    {
      "cell_type": "code",
      "source": [
        "n = 10\n",
        "while n > 0:\n",
        "  print(n)\n",
        "  n = n-1\n",
        "  print(\"Lift off\")"
      ],
      "metadata": {
        "colab": {
          "base_uri": "https://localhost:8080/"
        },
        "id": "QGNtfx6nGnbZ",
        "outputId": "a6cf175c-78e3-4340-c253-e8a44e238f13"
      },
      "execution_count": null,
      "outputs": [
        {
          "output_type": "stream",
          "name": "stdout",
          "text": [
            "10\n",
            "Lift off\n",
            "9\n",
            "Lift off\n",
            "8\n",
            "Lift off\n",
            "7\n",
            "Lift off\n",
            "6\n",
            "Lift off\n",
            "5\n",
            "Lift off\n",
            "4\n",
            "Lift off\n",
            "3\n",
            "Lift off\n",
            "2\n",
            "Lift off\n",
            "1\n",
            "Lift off\n"
          ]
        }
      ]
    },
    {
      "cell_type": "code",
      "source": [
        "#For loops\n",
        "tech_stack = ['webdev', 'ml','android','gaming']\n",
        "for stack in tech_stack:\n",
        "  print(\"Which tech stack am I goig to take:\", stack)\n"
      ],
      "metadata": {
        "colab": {
          "base_uri": "https://localhost:8080/"
        },
        "id": "DAJSOTawHttk",
        "outputId": "58399039-9b2c-408c-c3c7-8326ba31473e"
      },
      "execution_count": null,
      "outputs": [
        {
          "output_type": "stream",
          "name": "stdout",
          "text": [
            "Which tech stack am I goig to take: webdev\n",
            "Which tech stack am I goig to take: ml\n",
            "Which tech stack am I goig to take: android\n",
            "Which tech stack am I goig to take: gaming\n"
          ]
        }
      ]
    },
    {
      "cell_type": "markdown",
      "source": [
        "## Strings\n",
        "\n",
        "A string is a sequence of characters.\n"
      ],
      "metadata": {
        "id": "odz6Nc-C1hZ8"
      }
    },
    {
      "cell_type": "code",
      "source": [
        "#get a value on a given index\n",
        "fruit = 'pineapple'\n",
        "letter = fruit[1]\n",
        "print(letter)"
      ],
      "metadata": {
        "colab": {
          "base_uri": "https://localhost:8080/"
        },
        "id": "62mfSHQ_Kbot",
        "outputId": "17544041-1d7a-4e34-94a3-8f8eaa2fc0e4"
      },
      "execution_count": null,
      "outputs": [
        {
          "output_type": "stream",
          "name": "stdout",
          "text": [
            "i\n"
          ]
        }
      ]
    },
    {
      "cell_type": "code",
      "source": [
        "#get length of  a string\n",
        "print(len(fruit))\n",
        "#print last letter of a string\n",
        "length = len(fruit)\n",
        "last = fruit[length-1]\n",
        "print(last)\n",
        "\n",
        "#string traversal\n",
        "#loop through a string\n",
        "index = 0\n",
        "while index < len(fruit):\n",
        "    letter = fruit[index]\n",
        "    print(index, letter)\n",
        "    index = index + 1\n",
        "\n"
      ],
      "metadata": {
        "colab": {
          "base_uri": "https://localhost:8080/"
        },
        "id": "yIY0kojzKy1q",
        "outputId": "5ae63c10-7264-4d6a-a140-85e7b848280c"
      },
      "execution_count": null,
      "outputs": [
        {
          "output_type": "stream",
          "name": "stdout",
          "text": [
            "9\n",
            "e\n",
            "0 p\n",
            "1 i\n",
            "2 n\n",
            "3 e\n",
            "4 a\n",
            "5 p\n",
            "6 p\n",
            "7 l\n",
            "8 e\n"
          ]
        }
      ]
    },
    {
      "cell_type": "markdown",
      "source": [
        "## Files"
      ],
      "metadata": {
        "id": "MDmWc7Pd1jTL"
      }
    },
    {
      "cell_type": "markdown",
      "source": [
        "## Lists\n",
        "\n",
        "A list is a sequence of values, these values can be of any type\n",
        "Lists are mutable meaning you can change items in it"
      ],
      "metadata": {
        "id": "atfD_QU-1lfc"
      }
    },
    {
      "cell_type": "code",
      "source": [
        "#create a list\n",
        "numbers = ['13','34','67','0.48']\n",
        "print(numbers)\n",
        "brands = ['toshiba', 'samsung','asus','acer','mac']\n",
        "print(brands)\n",
        "\n",
        "#a list within a list\n",
        "mixed = ['246','0.349','toshiba',['intel','amd','nvidia','arm']]\n",
        "print(mixed)"
      ],
      "metadata": {
        "colab": {
          "base_uri": "https://localhost:8080/"
        },
        "id": "2SqErj651OB_",
        "outputId": "702fa74f-ec85-4c6c-fd19-8cd6aa3eba4c"
      },
      "execution_count": null,
      "outputs": [
        {
          "output_type": "stream",
          "name": "stdout",
          "text": [
            "['13', '34', '67', '0.48']\n",
            "['toshiba', 'samsung', 'asus', 'acer', 'mac']\n",
            "['246', '0.349', 'toshiba', ['intel', 'amd', 'nvidia', 'arm']]\n"
          ]
        }
      ]
    },
    {
      "cell_type": "code",
      "source": [
        "#access elements of  alist\n",
        "print(brands[2])\n",
        "print(mixed[3])\n",
        "print(mixed[3][2])"
      ],
      "metadata": {
        "colab": {
          "base_uri": "https://localhost:8080/"
        },
        "id": "EGuigYwRNNa3",
        "outputId": "c6d7b3f2-4a95-4013-9c9e-ffb4dc480602"
      },
      "execution_count": null,
      "outputs": [
        {
          "output_type": "stream",
          "name": "stdout",
          "text": [
            "asus\n",
            "['intel', 'amd', 'nvidia', 'arm']\n",
            "nvidia\n"
          ]
        }
      ]
    },
    {
      "cell_type": "code",
      "source": [
        "#change elements of a list\n",
        "print(brands)\n",
        "brands[2] = 'dell'\n",
        "print(brands)"
      ],
      "metadata": {
        "colab": {
          "base_uri": "https://localhost:8080/"
        },
        "id": "mC6iburyPI0P",
        "outputId": "a06e8a01-10c4-4c6e-d0be-609ebf1e6434"
      },
      "execution_count": null,
      "outputs": [
        {
          "output_type": "stream",
          "name": "stdout",
          "text": [
            "['toshiba', 'samsung', 'asus', 'acer', 'mac']\n",
            "['toshiba', 'samsung', 'dell', 'acer', 'mac']\n"
          ]
        }
      ]
    },
    {
      "cell_type": "code",
      "source": [
        "#the 'in' operator on lists\n",
        "print('hp' in brands)\n",
        "print('acer' in brands)"
      ],
      "metadata": {
        "colab": {
          "base_uri": "https://localhost:8080/"
        },
        "id": "vByXtDOrQHva",
        "outputId": "e0e95156-488e-47b3-f2e0-c39fd64d1949"
      },
      "execution_count": null,
      "outputs": [
        {
          "output_type": "stream",
          "name": "stdout",
          "text": [
            "False\n",
            "True\n"
          ]
        }
      ]
    },
    {
      "cell_type": "code",
      "source": [
        "#traversing a list\n",
        "#just reading eements of a list\n",
        "for brand in brands:\n",
        "  print(brand)"
      ],
      "metadata": {
        "colab": {
          "base_uri": "https://localhost:8080/"
        },
        "id": "SoGHShgBQU0R",
        "outputId": "203549cd-cdff-4a70-b773-1d03edc26854"
      },
      "execution_count": null,
      "outputs": [
        {
          "output_type": "stream",
          "name": "stdout",
          "text": [
            "toshiba\n",
            "samsung\n",
            "dell\n",
            "acer\n",
            "mac\n"
          ]
        }
      ]
    },
    {
      "cell_type": "code",
      "source": [
        "#update elements of a list\n",
        "for i in range(len(brands)):\n",
        "  brands[i] = brands[i] + ' computer'\n",
        "print(brands)\n"
      ],
      "metadata": {
        "colab": {
          "base_uri": "https://localhost:8080/"
        },
        "id": "lEALDqIIRHUl",
        "outputId": "fbe568df-1444-43f5-e783-012987698217"
      },
      "execution_count": null,
      "outputs": [
        {
          "output_type": "stream",
          "name": "stdout",
          "text": [
            "['toshiba computer', 'samsung computer', 'dell computer', 'acer computer', 'mac computer']\n"
          ]
        }
      ]
    },
    {
      "cell_type": "code",
      "source": [
        "#concatenation on lists\n",
        "a = [1, 2, 3]\n",
        "b = [4, 5, 6]\n",
        "c = a + b\n",
        "print(c)"
      ],
      "metadata": {
        "colab": {
          "base_uri": "https://localhost:8080/"
        },
        "id": "9T5y3pvER-zt",
        "outputId": "f6f313c6-79f9-498b-b9cd-637e21bdf46d"
      },
      "execution_count": null,
      "outputs": [
        {
          "output_type": "stream",
          "name": "stdout",
          "text": [
            "[1, 2, 3, 4, 5, 6]\n"
          ]
        }
      ]
    },
    {
      "cell_type": "code",
      "source": [
        "#list slicing\n",
        "print(brands[1:3])\n",
        "print(brands[:])"
      ],
      "metadata": {
        "colab": {
          "base_uri": "https://localhost:8080/"
        },
        "id": "Ezv2Vw77SOvJ",
        "outputId": "6c35e7be-f83f-4641-fe86-d90684b39e9b"
      },
      "execution_count": null,
      "outputs": [
        {
          "output_type": "stream",
          "name": "stdout",
          "text": [
            "['samsung computer', 'dell computer']\n",
            "['toshiba computer', 'samsung computer', 'dell computer', 'acer computer', 'mac computer']\n"
          ]
        }
      ]
    },
    {
      "cell_type": "code",
      "source": [
        "#List methods\n",
        "#appending\n",
        "brands.append('hp')\n",
        "print(brands)\n",
        "\n",
        "#sort method\n",
        "#arranges in ascending order(low to high)\n",
        "brands.sort()\n",
        "print(brands)"
      ],
      "metadata": {
        "colab": {
          "base_uri": "https://localhost:8080/"
        },
        "id": "4PejmLEASlde",
        "outputId": "1285b012-3292-4229-bdcb-e2128d46f1b7"
      },
      "execution_count": null,
      "outputs": [
        {
          "output_type": "stream",
          "name": "stdout",
          "text": [
            "['toshiba computer', 'samsung computer', 'dell computer', 'acer computer', 'mac computer', 'hp']\n",
            "['acer computer', 'dell computer', 'hp', 'mac computer', 'samsung computer', 'toshiba computer']\n"
          ]
        }
      ]
    },
    {
      "cell_type": "code",
      "source": [
        "#Deleting elements in a list\n",
        "#pop modifies the list and returns the element that was removed. If you don't provide na index, it deletes and returns the last element.\n",
        "brands.pop()\n",
        "print(brands)\n",
        "\n",
        "#if you know the element you want to remove but not the index, use remove\n",
        "brands.remove('dell computer')\n",
        "print(brands)\n",
        "\n",
        "#to remove more than one element, use 'del' with a slice index\n",
        "del brands[0:2]\n",
        "print(brands)"
      ],
      "metadata": {
        "colab": {
          "base_uri": "https://localhost:8080/"
        },
        "id": "4TBBS85EV6Ew",
        "outputId": "85b1e021-7323-46a7-9804-df6c4f0d58ee"
      },
      "execution_count": null,
      "outputs": [
        {
          "output_type": "stream",
          "name": "stdout",
          "text": [
            "['acer computer', 'dell computer', 'hp', 'mac computer', 'samsung computer']\n",
            "['acer computer', 'hp', 'mac computer', 'samsung computer']\n",
            "['mac computer', 'samsung computer']\n"
          ]
        }
      ]
    },
    {
      "cell_type": "code",
      "source": [
        "print(max(brands))"
      ],
      "metadata": {
        "colab": {
          "base_uri": "https://localhost:8080/"
        },
        "id": "rJOjj-pxWjDn",
        "outputId": "968d17c4-da7b-42c7-bb95-307b37416f5d"
      },
      "execution_count": null,
      "outputs": [
        {
          "output_type": "stream",
          "name": "stdout",
          "text": [
            "samsung computer\n"
          ]
        }
      ]
    },
    {
      "cell_type": "code",
      "source": [
        "total = 0\n",
        "count = 0\n",
        "while (True):\n",
        "  inp = input('Enter a number: ')\n",
        "  if inp == 'done': break\n",
        "  value = float(inp)\n",
        "  total = total + value\n",
        "  count = count + 1\n",
        "average = total / count\n",
        "print('Average:', average)\n"
      ],
      "metadata": {
        "colab": {
          "base_uri": "https://localhost:8080/"
        },
        "id": "wzsTGtRmbDeF",
        "outputId": "dd1bb39f-6cc0-4351-b575-c27f089dd666"
      },
      "execution_count": null,
      "outputs": [
        {
          "output_type": "stream",
          "name": "stdout",
          "text": [
            "Enter a number: 23\n",
            "Enter a number: 88\n",
            "Enter a number: 0\n",
            "Enter a number: 1\n",
            "Enter a number: done\n",
            "Average: 28.0\n"
          ]
        }
      ]
    },
    {
      "cell_type": "code",
      "source": [
        "numlist = list()\n",
        "while (True):\n",
        "  inp = input('Enter a number: ')\n",
        "  if inp == 'done': break\n",
        "  value = float(inp)\n",
        "  numlist.append(value)\n",
        "average = sum(numlist) / len(numlist)\n",
        "print('Average:', average)\n"
      ],
      "metadata": {
        "colab": {
          "base_uri": "https://localhost:8080/"
        },
        "id": "rcweGGeZcF9O",
        "outputId": "2ea06272-b0c9-4668-8d9f-33610d3ee70f"
      },
      "execution_count": null,
      "outputs": [
        {
          "output_type": "stream",
          "name": "stdout",
          "text": [
            "Enter a number: 23\n",
            "Enter a number: 88\n",
            "Enter a number: 0\n",
            "Enter a number: 1\n",
            "Enter a number: done\n",
            "Average: 28.0\n"
          ]
        }
      ]
    },
    {
      "cell_type": "code",
      "source": [
        "fruit = 'pineapple'\n",
        "my_fruits = list(fruit)\n",
        "my_fruits"
      ],
      "metadata": {
        "colab": {
          "base_uri": "https://localhost:8080/"
        },
        "id": "oqrYAF7gdeY7",
        "outputId": "a60d0c2d-1763-4d4b-db80-10f87672a4ac"
      },
      "execution_count": null,
      "outputs": [
        {
          "output_type": "execute_result",
          "data": {
            "text/plain": [
              "['p', 'i', 'n', 'e', 'a', 'p', 'p', 'l', 'e']"
            ]
          },
          "metadata": {},
          "execution_count": 94
        }
      ]
    },
    {
      "cell_type": "markdown",
      "source": [
        "## Dictionaries\n",
        " A dictionary is like a list, but a more general one.\n",
        " In a list the index positions have to be integers, but in a dictionary the indices can be any type.\n",
        "\n",
        " Essentially a dictionary is a mapping between a set of indices (called keys) and  a set of values. Each key maps to a value\n",
        "\n",
        " Order of key-value pairs is the same as their input order\n",
        "\n",
        " Elements of of  a dictionary are not idexed with integer indices. Instead, we use keys to look up corresponding values"
      ],
      "metadata": {
        "id": "pTU1t-7_z6oE"
      }
    },
    {
      "cell_type": "code",
      "source": [
        "#english - espanol dictionary\n",
        "eng2esp = dict()\n",
        "eng2esp['one'] = 'uno'\n",
        "print(eng2esp)"
      ],
      "metadata": {
        "colab": {
          "base_uri": "https://localhost:8080/"
        },
        "id": "a5iq8JYi1PiG",
        "outputId": "02bfe970-4f2a-4a18-c909-0851ab6765ed"
      },
      "execution_count": null,
      "outputs": [
        {
          "output_type": "stream",
          "name": "stdout",
          "text": [
            "{'one': 'uno'}\n"
          ]
        }
      ]
    },
    {
      "cell_type": "code",
      "source": [
        "eng2esp = {'one' :'uno','two':'dos', 'three': 'tres','four':'cuatro','five':'cinco','six':'seis','seven':'siete','eight':'ocho'}\n",
        "print(eng2esp)"
      ],
      "metadata": {
        "colab": {
          "base_uri": "https://localhost:8080/"
        },
        "id": "vkGj2eJf1n2A",
        "outputId": "20da6356-8a36-4c67-9c13-08bfdb9d0ece"
      },
      "execution_count": null,
      "outputs": [
        {
          "output_type": "stream",
          "name": "stdout",
          "text": [
            "{'one': 'uno', 'two': 'dos', 'three': 'tres', 'four': 'cuatro', 'five': 'cinco', 'six': 'seis', 'seven': 'siete', 'eight': 'ocho'}\n"
          ]
        }
      ]
    },
    {
      "cell_type": "code",
      "source": [
        "# Elements of of  a dictionary are not idexed with integer indices. Instead, we use keys to look up corresponding values\n",
        "print(eng2esp['five'])"
      ],
      "metadata": {
        "colab": {
          "base_uri": "https://localhost:8080/"
        },
        "id": "cmyY4ao32jOj",
        "outputId": "23f41966-1875-4307-c8ee-70663050fde3"
      },
      "execution_count": null,
      "outputs": [
        {
          "output_type": "stream",
          "name": "stdout",
          "text": [
            "cinco\n"
          ]
        }
      ]
    },
    {
      "cell_type": "code",
      "source": [
        "#length function on dictionaries\n",
        "len(eng2esp)"
      ],
      "metadata": {
        "colab": {
          "base_uri": "https://localhost:8080/"
        },
        "id": "VTwXHdR74Aal",
        "outputId": "5d8bf76f-07fb-4827-d3e1-648ba82ee880"
      },
      "execution_count": null,
      "outputs": [
        {
          "output_type": "execute_result",
          "data": {
            "text/plain": [
              "5"
            ]
          },
          "metadata": {},
          "execution_count": 15
        }
      ]
    },
    {
      "cell_type": "code",
      "source": [
        "#the 'in' operator in dictionaries (check whether something appears as a key in the dict)\n",
        "print('two' in  eng2esp)\n",
        "\n",
        "print('ten' in  eng2esp)"
      ],
      "metadata": {
        "colab": {
          "base_uri": "https://localhost:8080/"
        },
        "id": "0ThYQLHS4O_1",
        "outputId": "0b14fbcb-d5b3-4e5e-e65a-fe3bf52b517c"
      },
      "execution_count": null,
      "outputs": [
        {
          "output_type": "stream",
          "name": "stdout",
          "text": [
            "True\n",
            "False\n"
          ]
        }
      ]
    },
    {
      "cell_type": "code",
      "source": [
        "#check whether somethig appears as a value\n",
        "vals = list(eng2esp.values())\n",
        "print('seis' in vals)"
      ],
      "metadata": {
        "colab": {
          "base_uri": "https://localhost:8080/"
        },
        "id": "8_ILeI6F5V8z",
        "outputId": "e6e64679-e66e-4e32-9b21-dc9bbc9451c2"
      },
      "execution_count": null,
      "outputs": [
        {
          "output_type": "stream",
          "name": "stdout",
          "text": [
            "True\n"
          ]
        }
      ]
    },
    {
      "cell_type": "code",
      "source": [
        "#Dictionary as a set of counters\n",
        "\n",
        "word = 'onomatopoeia'\n",
        "my_dict = dict()\n",
        "for count in word:\n",
        "  if count not in my_dict:\n",
        "    my_dict[count] = 1\n",
        "  else:\n",
        "    my_dict[count] = my_dict[count] + 1\n",
        "print(my_dict)\n"
      ],
      "metadata": {
        "colab": {
          "base_uri": "https://localhost:8080/"
        },
        "id": "-RBoLuNt67jy",
        "outputId": "3c063d38-0ddc-44fc-c435-7bf009dad2f8"
      },
      "execution_count": null,
      "outputs": [
        {
          "output_type": "stream",
          "name": "stdout",
          "text": [
            "{'o': 4, 'n': 1, 'm': 1, 'a': 2, 't': 1, 'p': 1, 'e': 1, 'i': 1}\n"
          ]
        }
      ]
    },
    {
      "cell_type": "code",
      "source": [
        "\n",
        "# using dictionaries to count number of times a word appears in a text file/ string\n",
        "poem = \"\"\"\n",
        "In the heart of DeKUT, where knowledge takes flight,\n",
        "Rises a beacon of progress, a radiant light.\n",
        "Data Science and AI, the club we adore,\n",
        "Paving new paths, unlocking each door.\n",
        "\n",
        "From pixels to patterns, we make sense of the scene,\n",
        "Turning data to wisdom, like code to machine.\n",
        "With passion and vision, we shape the unknown,\n",
        "A future of insight, where brilliance is grown.\n",
        "\n",
        "Algorithms hum softly, in unity they speak,\n",
        "Solving problems of power, for the bold and the meek.\n",
        "In fields of wildlife, and crops in the field,\n",
        "We apply our craft, and results are revealed.\n",
        "\n",
        "With each mind connected, a network we weave,\n",
        "Where dreams take form, and knowledge we conceive.\n",
        "Leaders and learners, we gather as one,\n",
        "The journey of DSAIC has only begun.\n",
        "\n",
        "Together we rise, our mission is clear,\n",
        "To drive innovation, year after year.\n",
        "At DeKUT we stand, with pride in our hearts,\n",
        "For DSAIC's brilliance, where greatness starts.\n",
        "\"\"\"\n",
        "\n",
        "# Convert the poem to lowercase and split into words\n",
        "words = poem.lower().replace(\",\", \"\").replace(\".\", \"\").replace(\"'\", \"\").split()\n",
        "\n",
        "# Dictionary to hold the count of each word\n",
        "word_count = {}\n",
        "\n",
        "# Count occurrences of each word\n",
        "for word in words:\n",
        "    if word in word_count:\n",
        "        word_count[word] += 1\n",
        "    else:\n",
        "        word_count[word] = 1\n",
        "print(word_count)\n"
      ],
      "metadata": {
        "colab": {
          "base_uri": "https://localhost:8080/"
        },
        "id": "OoidfA9D9wjF",
        "outputId": "61a42244-3738-4921-e8f7-b6526b850a6d"
      },
      "execution_count": null,
      "outputs": [
        {
          "output_type": "stream",
          "name": "stdout",
          "text": [
            "{'in': 5, 'the': 8, 'heart': 1, 'of': 7, 'dekut': 2, 'where': 4, 'knowledge': 2, 'takes': 1, 'flight': 1, 'rises': 1, 'a': 4, 'beacon': 1, 'progress': 1, 'radiant': 1, 'light': 1, 'data': 2, 'science': 1, 'and': 7, 'ai': 1, 'club': 1, 'we': 9, 'adore': 1, 'paving': 1, 'new': 1, 'paths': 1, 'unlocking': 1, 'each': 2, 'door': 1, 'from': 1, 'pixels': 1, 'to': 4, 'patterns': 1, 'make': 1, 'sense': 1, 'scene': 1, 'turning': 1, 'wisdom': 1, 'like': 1, 'code': 1, 'machine': 1, 'with': 3, 'passion': 1, 'vision': 1, 'shape': 1, 'unknown': 1, 'future': 1, 'insight': 1, 'brilliance': 2, 'is': 2, 'grown': 1, 'algorithms': 1, 'hum': 1, 'softly': 1, 'unity': 1, 'they': 1, 'speak': 1, 'solving': 1, 'problems': 1, 'power': 1, 'for': 2, 'bold': 1, 'meek': 1, 'fields': 1, 'wildlife': 1, 'crops': 1, 'field': 1, 'apply': 1, 'our': 3, 'craft': 1, 'results': 1, 'are': 1, 'revealed': 1, 'mind': 1, 'connected': 1, 'network': 1, 'weave': 1, 'dreams': 1, 'take': 1, 'form': 1, 'conceive': 1, 'leaders': 1, 'learners': 1, 'gather': 1, 'as': 1, 'one': 1, 'journey': 1, 'dsaic': 1, 'has': 1, 'only': 1, 'begun': 1, 'together': 1, 'rise': 1, 'mission': 1, 'clear': 1, 'drive': 1, 'innovation': 1, 'year': 2, 'after': 1, 'at': 1, 'stand': 1, 'pride': 1, 'hearts': 1, 'dsaics': 1, 'greatness': 1, 'starts': 1}\n"
          ]
        }
      ]
    },
    {
      "cell_type": "code",
      "source": [
        "# Sort the dictionary by word count (values) in descending order\n",
        "sorted_word_count = sorted(word_count.items(), key=lambda x: x[1], reverse=True)\n",
        "\n",
        "# Print the sorted word count\n",
        "for word, count in sorted_word_count:\n",
        "    print(f\"'{word}': {count}\")"
      ],
      "metadata": {
        "colab": {
          "base_uri": "https://localhost:8080/"
        },
        "collapsed": true,
        "id": "PsxDkeJbFM4T",
        "outputId": "db816ccf-77f0-4a3f-88a5-2532ea836d73"
      },
      "execution_count": null,
      "outputs": [
        {
          "output_type": "stream",
          "name": "stdout",
          "text": [
            "'we': 9\n",
            "'the': 8\n",
            "'of': 7\n",
            "'and': 7\n",
            "'in': 5\n",
            "'where': 4\n",
            "'a': 4\n",
            "'to': 4\n",
            "'with': 3\n",
            "'our': 3\n",
            "'dekut': 2\n",
            "'knowledge': 2\n",
            "'data': 2\n",
            "'each': 2\n",
            "'brilliance': 2\n",
            "'is': 2\n",
            "'for': 2\n",
            "'year': 2\n",
            "'heart': 1\n",
            "'takes': 1\n",
            "'flight': 1\n",
            "'rises': 1\n",
            "'beacon': 1\n",
            "'progress': 1\n",
            "'radiant': 1\n",
            "'light': 1\n",
            "'science': 1\n",
            "'ai': 1\n",
            "'club': 1\n",
            "'adore': 1\n",
            "'paving': 1\n",
            "'new': 1\n",
            "'paths': 1\n",
            "'unlocking': 1\n",
            "'door': 1\n",
            "'from': 1\n",
            "'pixels': 1\n",
            "'patterns': 1\n",
            "'make': 1\n",
            "'sense': 1\n",
            "'scene': 1\n",
            "'turning': 1\n",
            "'wisdom': 1\n",
            "'like': 1\n",
            "'code': 1\n",
            "'machine': 1\n",
            "'passion': 1\n",
            "'vision': 1\n",
            "'shape': 1\n",
            "'unknown': 1\n",
            "'future': 1\n",
            "'insight': 1\n",
            "'grown': 1\n",
            "'algorithms': 1\n",
            "'hum': 1\n",
            "'softly': 1\n",
            "'unity': 1\n",
            "'they': 1\n",
            "'speak': 1\n",
            "'solving': 1\n",
            "'problems': 1\n",
            "'power': 1\n",
            "'bold': 1\n",
            "'meek': 1\n",
            "'fields': 1\n",
            "'wildlife': 1\n",
            "'crops': 1\n",
            "'field': 1\n",
            "'apply': 1\n",
            "'craft': 1\n",
            "'results': 1\n",
            "'are': 1\n",
            "'revealed': 1\n",
            "'mind': 1\n",
            "'connected': 1\n",
            "'network': 1\n",
            "'weave': 1\n",
            "'dreams': 1\n",
            "'take': 1\n",
            "'form': 1\n",
            "'conceive': 1\n",
            "'leaders': 1\n",
            "'learners': 1\n",
            "'gather': 1\n",
            "'as': 1\n",
            "'one': 1\n",
            "'journey': 1\n",
            "'dsaic': 1\n",
            "'has': 1\n",
            "'only': 1\n",
            "'begun': 1\n",
            "'together': 1\n",
            "'rise': 1\n",
            "'mission': 1\n",
            "'clear': 1\n",
            "'drive': 1\n",
            "'innovation': 1\n",
            "'after': 1\n",
            "'at': 1\n",
            "'stand': 1\n",
            "'pride': 1\n",
            "'hearts': 1\n",
            "'dsaics': 1\n",
            "'greatness': 1\n",
            "'starts': 1\n"
          ]
        }
      ]
    },
    {
      "cell_type": "code",
      "source": [
        "# Count occurrences of a specific word using get method\n",
        "word_to_count = \"of\"\n",
        "print(word_count.get(word_to_count))\n",
        "#print(f\"The word '{word_to_count}' appears {word_count.get(word_to_count, 0)} times in the poem.\")\n"
      ],
      "metadata": {
        "colab": {
          "base_uri": "https://localhost:8080/"
        },
        "id": "WHsNkdJjBgAl",
        "outputId": "e1e74372-0d02-45dc-b4ea-a9239eadfef4"
      },
      "execution_count": null,
      "outputs": [
        {
          "output_type": "stream",
          "name": "stdout",
          "text": [
            "7\n",
            "The word 'of' appears 7 times in the poem.\n"
          ]
        }
      ]
    },
    {
      "cell_type": "markdown",
      "source": [
        "## Tuples\n",
        "Tuples are much like lists(sequencce of values of any type indexed by integers) with a key difference that they are immutable (i.e you cannot change/modify elements of a tuple)\n",
        "\n",
        "\n",
        "### Dictionaries and tuples\n"
      ],
      "metadata": {
        "id": "HxlOVXNyuKnc"
      }
    },
    {
      "cell_type": "code",
      "source": [
        "companies = ('nvidia','samsung','apple','google','microsoft','meeta','safaricom','amazon')\n",
        "print(companies)"
      ],
      "metadata": {
        "colab": {
          "base_uri": "https://localhost:8080/"
        },
        "id": "qo0YytF0vYwv",
        "outputId": "9414f67b-c9d4-4e83-fe80-dba68dac6909"
      },
      "execution_count": null,
      "outputs": [
        {
          "output_type": "stream",
          "name": "stdout",
          "text": [
            "('nvidia', 'samsung', 'apple', 'google', 'microsoft', 'meeta', 'safaricom', 'amazon')\n"
          ]
        }
      ]
    },
    {
      "cell_type": "markdown",
      "source": [
        "\n",
        "### Dictionaries and tuples\n",
        "Dictionaries have a method called items that returns a list of tuples, where each tuple is a key-value pair."
      ],
      "metadata": {
        "id": "LZqVV7kIzwg1"
      }
    }
  ]
}